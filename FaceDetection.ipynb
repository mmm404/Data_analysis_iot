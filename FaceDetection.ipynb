{
  "nbformat": 4,
  "nbformat_minor": 0,
  "metadata": {
    "colab": {
      "provenance": [],
      "authorship_tag": "ABX9TyO/IaeB/p+Owl1wvhzb4utI",
      "include_colab_link": true
    },
    "kernelspec": {
      "name": "python3",
      "display_name": "Python 3"
    },
    "language_info": {
      "name": "python"
    }
  },
  "cells": [
    {
      "cell_type": "markdown",
      "metadata": {
        "id": "view-in-github",
        "colab_type": "text"
      },
      "source": [
        "<a href=\"https://colab.research.google.com/github/mmm404/Data_analysis_iot/blob/main/FaceDetection.ipynb\" target=\"_parent\"><img src=\"https://colab.research.google.com/assets/colab-badge.svg\" alt=\"Open In Colab\"/></a>"
      ]
    },
    {
      "cell_type": "code",
      "execution_count": null,
      "metadata": {
        "id": "2qEq4-3hzKYf"
      },
      "outputs": [],
      "source": [
        "import cv2\n",
        "import mediapipe as mp\n",
        "import time\n",
        "capture = cv2.VideoCapture(0)\n",
        "mpHands = mp.solutions.hands\n",
        "mpDraw = mp.solutions.drawing_utils\n",
        "hands = mpHands.Hands()\n",
        "\n",
        "while True:\n",
        "    success, img  = capture.read()\n",
        "    imgRGB = cv2.cvtColor(img, cv2.COLOR_BGR2RGB)\n",
        "    results = hands.process(imgRGB)\n",
        "    #print(results.multi_hand_landmarks)\n",
        "    if results.multi_hand_landmarks:\n",
        "        for handLMK in results.multi_hand_landmarks:\n",
        "            print(handLMK)\n",
        "            mpDraw.draw_landmarks(img, handLMK,mpHands.HAND_CONNECTIONS)\n",
        "\n",
        "    cv2.imshow('hand tracker', img)\n",
        "    cv2.waitKey(1)"
      ]
    }
  ]
}